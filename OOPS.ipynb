{
  "nbformat": 4,
  "nbformat_minor": 0,
  "metadata": {
    "colab": {
      "name": "OOPS.ipynb",
      "provenance": []
    },
    "kernelspec": {
      "name": "python3",
      "display_name": "Python 3"
    },
    "language_info": {
      "name": "python"
    }
  },
  "cells": [
    {
      "cell_type": "markdown",
      "metadata": {
        "id": "9skxZe888sr8"
      },
      "source": [
        "**simple** **class**"
      ]
    },
    {
      "cell_type": "code",
      "metadata": {
        "id": "Q0VhPLCiyOuZ"
      },
      "source": [
        "class car:\n",
        "  pass"
      ],
      "execution_count": 1,
      "outputs": []
    },
    {
      "cell_type": "code",
      "metadata": {
        "id": "INC99YuzySy7"
      },
      "source": [
        "res=car()"
      ],
      "execution_count": 2,
      "outputs": []
    },
    {
      "cell_type": "code",
      "metadata": {
        "id": "KXpzT3HyyUbN"
      },
      "source": [
        "res.name='samraj'"
      ],
      "execution_count": 3,
      "outputs": []
    },
    {
      "cell_type": "code",
      "metadata": {
        "colab": {
          "base_uri": "https://localhost:8080/",
          "height": 36
        },
        "id": "2WwgWKbHyYdo",
        "outputId": "3b1ad660-e493-497e-fbe8-32e9cf08d7b1"
      },
      "source": [
        "res.name"
      ],
      "execution_count": 5,
      "outputs": [
        {
          "output_type": "execute_result",
          "data": {
            "application/vnd.google.colaboratory.intrinsic+json": {
              "type": "string"
            },
            "text/plain": [
              "'samraj'"
            ]
          },
          "metadata": {},
          "execution_count": 5
        }
      ]
    },
    {
      "cell_type": "code",
      "metadata": {
        "id": "OZZT7keGyaSn"
      },
      "source": [
        "class sam:\n",
        "  def __init__(self,name):\n",
        "    self.name=name\n",
        "\n",
        "  def s(self):\n",
        "    print(\"this is {}\".format(self.name))\n"
      ],
      "execution_count": 10,
      "outputs": []
    },
    {
      "cell_type": "code",
      "metadata": {
        "id": "AyH-zplzzQ06"
      },
      "source": [
        "res=sam(\"samraj\")"
      ],
      "execution_count": 11,
      "outputs": []
    },
    {
      "cell_type": "code",
      "metadata": {
        "colab": {
          "base_uri": "https://localhost:8080/",
          "height": 36
        },
        "id": "G_Wu5Lte0H2k",
        "outputId": "3565f7d6-306a-4c97-bd3f-4c736ef8c9a1"
      },
      "source": [
        "res.name"
      ],
      "execution_count": 12,
      "outputs": [
        {
          "output_type": "execute_result",
          "data": {
            "application/vnd.google.colaboratory.intrinsic+json": {
              "type": "string"
            },
            "text/plain": [
              "'samraj'"
            ]
          },
          "metadata": {},
          "execution_count": 12
        }
      ]
    },
    {
      "cell_type": "code",
      "metadata": {
        "colab": {
          "base_uri": "https://localhost:8080/"
        },
        "id": "VZLOoPGE0IU5",
        "outputId": "0d48b435-406f-45a5-aacb-5dd8b2353e3b"
      },
      "source": [
        "res.s"
      ],
      "execution_count": 14,
      "outputs": [
        {
          "output_type": "execute_result",
          "data": {
            "text/plain": [
              "<bound method sam.s of <__main__.sam object at 0x7fac0b803790>>"
            ]
          },
          "metadata": {},
          "execution_count": 14
        }
      ]
    },
    {
      "cell_type": "markdown",
      "metadata": {
        "id": "vrSp2kO31hTq"
      },
      "source": [
        "**Inheritance**"
      ]
    },
    {
      "cell_type": "code",
      "metadata": {
        "id": "KKHG8-fk1Ces"
      },
      "source": [
        "class student:\n",
        "  def __init__(self,name,age,email):\n",
        "    self.name=name\n",
        "    self.age=age\n",
        "    self.email=email\n",
        "\n",
        "  def result(self):\n",
        "    print(\"This is about {}\".format(self.name))\n",
        "\n",
        "class teacher(student):\n",
        "  def __init__(self,name,age,email,student_marks):\n",
        "    super().__init__(name,age,email)\n",
        "    self.student_marks=student_marks\n",
        "\n",
        "  def remark(self):\n",
        "    print(\"the teacher name is {}\".format(self.name))"
      ],
      "execution_count": 44,
      "outputs": []
    },
    {
      "cell_type": "code",
      "metadata": {
        "id": "J8Se2kzd13Gc"
      },
      "source": [
        "res=student('sam','21',\"@gmail\")"
      ],
      "execution_count": 40,
      "outputs": []
    },
    {
      "cell_type": "code",
      "metadata": {
        "colab": {
          "base_uri": "https://localhost:8080/"
        },
        "id": "Nhd3e4iQ17Mw",
        "outputId": "b836c56c-05a4-440c-90bd-36e4b50541cd"
      },
      "source": [
        "res.result()"
      ],
      "execution_count": 33,
      "outputs": [
        {
          "output_type": "stream",
          "name": "stdout",
          "text": [
            "This is about sam\n"
          ]
        }
      ]
    },
    {
      "cell_type": "code",
      "metadata": {
        "colab": {
          "base_uri": "https://localhost:8080/"
        },
        "id": "bvelofBl181B",
        "outputId": "bbd7f655-4fa3-493b-fb32-1ab99865ccb5"
      },
      "source": [
        "dir(student)"
      ],
      "execution_count": 29,
      "outputs": [
        {
          "output_type": "execute_result",
          "data": {
            "text/plain": [
              "['__class__',\n",
              " '__delattr__',\n",
              " '__dict__',\n",
              " '__dir__',\n",
              " '__doc__',\n",
              " '__eq__',\n",
              " '__format__',\n",
              " '__ge__',\n",
              " '__getattribute__',\n",
              " '__gt__',\n",
              " '__hash__',\n",
              " '__init__',\n",
              " '__init_subclass__',\n",
              " '__le__',\n",
              " '__lt__',\n",
              " '__module__',\n",
              " '__ne__',\n",
              " '__new__',\n",
              " '__reduce__',\n",
              " '__reduce_ex__',\n",
              " '__repr__',\n",
              " '__setattr__',\n",
              " '__sizeof__',\n",
              " '__str__',\n",
              " '__subclasshook__',\n",
              " '__weakref__',\n",
              " 'result']"
            ]
          },
          "metadata": {},
          "execution_count": 29
        }
      ]
    },
    {
      "cell_type": "code",
      "metadata": {
        "id": "bsyLzsNH2Lzo"
      },
      "source": [
        "res1=teacher(\"karthic\",21,'@','4')"
      ],
      "execution_count": 46,
      "outputs": []
    },
    {
      "cell_type": "code",
      "metadata": {
        "colab": {
          "base_uri": "https://localhost:8080/"
        },
        "id": "1BikHOs44yBe",
        "outputId": "46c1fbd6-6ff4-45af-edfe-b0fa156d13df"
      },
      "source": [
        "res1.age"
      ],
      "execution_count": 48,
      "outputs": [
        {
          "output_type": "execute_result",
          "data": {
            "text/plain": [
              "21"
            ]
          },
          "metadata": {},
          "execution_count": 48
        }
      ]
    },
    {
      "cell_type": "code",
      "metadata": {
        "id": "sQawdAaL6cJH"
      },
      "source": [
        ""
      ],
      "execution_count": null,
      "outputs": []
    },
    {
      "cell_type": "markdown",
      "metadata": {
        "id": "BHG5Rmvy8Jo3"
      },
      "source": [
        "**Public,Private,Protected**"
      ]
    },
    {
      "cell_type": "code",
      "metadata": {
        "id": "hhz1tu5_8Oac"
      },
      "source": [
        "####public\n",
        "\n",
        "class student:\n",
        "  def __init__(self,name,age,email):\n",
        "    self.name=name\n",
        "    self.age=age\n",
        "    self.email=email\n"
      ],
      "execution_count": 60,
      "outputs": []
    },
    {
      "cell_type": "code",
      "metadata": {
        "colab": {
          "base_uri": "https://localhost:8080/",
          "height": 36
        },
        "id": "Dz8g6Zp18Q4_",
        "outputId": "e35a0f68-d0b2-47db-9839-24c83877dd98"
      },
      "source": [
        "res=student(\"sam\",21,\"@\")\n",
        "res.name"
      ],
      "execution_count": 61,
      "outputs": [
        {
          "output_type": "execute_result",
          "data": {
            "application/vnd.google.colaboratory.intrinsic+json": {
              "type": "string"
            },
            "text/plain": [
              "'sam'"
            ]
          },
          "metadata": {},
          "execution_count": 61
        }
      ]
    },
    {
      "cell_type": "code",
      "metadata": {
        "id": "55AJlPlB8fVz"
      },
      "source": [
        "#protected\n",
        "class student:\n",
        "  def __init__(self,name,age,email):\n",
        "    self._name=name\n",
        "    self._age=age\n",
        "    self._email=email\n",
        "\n",
        "class teacher(student):\n",
        "  def __init__(self,name,age,email,student_marks):\n",
        "    super().__init__(name,age,email)\n",
        "    self.student_marks=student_marks\n",
        "\n"
      ],
      "execution_count": 64,
      "outputs": []
    },
    {
      "cell_type": "code",
      "metadata": {
        "id": "kXdt5N-U--0e"
      },
      "source": [
        "re1=student(\"sam\",21,'@')"
      ],
      "execution_count": 63,
      "outputs": []
    },
    {
      "cell_type": "code",
      "metadata": {
        "id": "TyIAz5IZ_DUW"
      },
      "source": [
        "tea=teacher(\"sam\",21,'@',510)"
      ],
      "execution_count": 65,
      "outputs": []
    },
    {
      "cell_type": "code",
      "metadata": {
        "colab": {
          "base_uri": "https://localhost:8080/"
        },
        "id": "JaPNpfVA_EKD",
        "outputId": "cdf164e8-366e-4293-8e00-015670d424ee"
      },
      "source": [
        "dir(tea)"
      ],
      "execution_count": 66,
      "outputs": [
        {
          "output_type": "execute_result",
          "data": {
            "text/plain": [
              "['__class__',\n",
              " '__delattr__',\n",
              " '__dict__',\n",
              " '__dir__',\n",
              " '__doc__',\n",
              " '__eq__',\n",
              " '__format__',\n",
              " '__ge__',\n",
              " '__getattribute__',\n",
              " '__gt__',\n",
              " '__hash__',\n",
              " '__init__',\n",
              " '__init_subclass__',\n",
              " '__le__',\n",
              " '__lt__',\n",
              " '__module__',\n",
              " '__ne__',\n",
              " '__new__',\n",
              " '__reduce__',\n",
              " '__reduce_ex__',\n",
              " '__repr__',\n",
              " '__setattr__',\n",
              " '__sizeof__',\n",
              " '__str__',\n",
              " '__subclasshook__',\n",
              " '__weakref__',\n",
              " '_age',\n",
              " '_email',\n",
              " '_name',\n",
              " 'student_marks']"
            ]
          },
          "metadata": {},
          "execution_count": 66
        }
      ]
    },
    {
      "cell_type": "code",
      "metadata": {
        "id": "E_eurlTJ_u1-"
      },
      "source": [
        "tea._name='karthick'"
      ],
      "execution_count": 69,
      "outputs": []
    },
    {
      "cell_type": "code",
      "metadata": {
        "colab": {
          "base_uri": "https://localhost:8080/",
          "height": 36
        },
        "id": "IihyCRFc_6f2",
        "outputId": "0eb116dc-a879-45e0-b71a-eebcf7454b10"
      },
      "source": [
        "tea._name"
      ],
      "execution_count": 70,
      "outputs": [
        {
          "output_type": "execute_result",
          "data": {
            "application/vnd.google.colaboratory.intrinsic+json": {
              "type": "string"
            },
            "text/plain": [
              "'karthick'"
            ]
          },
          "metadata": {},
          "execution_count": 70
        }
      ]
    },
    {
      "cell_type": "code",
      "metadata": {
        "id": "EeO32hdmAAW6"
      },
      "source": [
        "##private\n",
        "\n",
        "#protected\n",
        "class student:\n",
        "  def __init__(self,name,age,email):\n",
        "    self.__name=name\n",
        "    self.__age=age\n",
        "    self.__email=email\n",
        "\n"
      ],
      "execution_count": 78,
      "outputs": []
    },
    {
      "cell_type": "code",
      "metadata": {
        "id": "cadMS_e1AasD"
      },
      "source": [
        "tea=student(\"sam\",21,'@')"
      ],
      "execution_count": 79,
      "outputs": []
    },
    {
      "cell_type": "code",
      "metadata": {
        "colab": {
          "base_uri": "https://localhost:8080/"
        },
        "id": "1mKiMGfgAetM",
        "outputId": "3b3af7d0-d562-4574-f4da-686df586602b"
      },
      "source": [
        "dir(tea)"
      ],
      "execution_count": 80,
      "outputs": [
        {
          "output_type": "execute_result",
          "data": {
            "text/plain": [
              "['__class__',\n",
              " '__delattr__',\n",
              " '__dict__',\n",
              " '__dir__',\n",
              " '__doc__',\n",
              " '__eq__',\n",
              " '__format__',\n",
              " '__ge__',\n",
              " '__getattribute__',\n",
              " '__gt__',\n",
              " '__hash__',\n",
              " '__init__',\n",
              " '__init_subclass__',\n",
              " '__le__',\n",
              " '__lt__',\n",
              " '__module__',\n",
              " '__ne__',\n",
              " '__new__',\n",
              " '__reduce__',\n",
              " '__reduce_ex__',\n",
              " '__repr__',\n",
              " '__setattr__',\n",
              " '__sizeof__',\n",
              " '__str__',\n",
              " '__subclasshook__',\n",
              " '__weakref__',\n",
              " '_student__age',\n",
              " '_student__email',\n",
              " '_student__name']"
            ]
          },
          "metadata": {},
          "execution_count": 80
        }
      ]
    },
    {
      "cell_type": "code",
      "metadata": {
        "id": "0YLbcdBWAf3O"
      },
      "source": [
        ""
      ],
      "execution_count": null,
      "outputs": []
    }
  ]
}